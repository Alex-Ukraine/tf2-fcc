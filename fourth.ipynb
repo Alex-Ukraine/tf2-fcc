{
  "nbformat": 4,
  "nbformat_minor": 0,
  "metadata": {
    "colab": {
      "name": "fourth.ipynb",
      "provenance": [],
      "authorship_tag": "ABX9TyMC2jueP/CtL7va2tFt2cOm",
      "include_colab_link": true
    },
    "kernelspec": {
      "name": "python3",
      "display_name": "Python 3"
    }
  },
  "cells": [
    {
      "cell_type": "markdown",
      "metadata": {
        "id": "view-in-github",
        "colab_type": "text"
      },
      "source": [
        "<a href=\"https://colab.research.google.com/github/Alex-Ukraine/tf2-fcc/blob/master/fourth.ipynb\" target=\"_parent\"><img src=\"https://colab.research.google.com/assets/colab-badge.svg\" alt=\"Open In Colab\"/></a>"
      ]
    },
    {
      "cell_type": "code",
      "metadata": {
        "id": "S5CYPnCKYVOf",
        "colab_type": "code",
        "colab": {}
      },
      "source": [
        "%tensorflow_version 2.x"
      ],
      "execution_count": 41,
      "outputs": []
    },
    {
      "cell_type": "code",
      "metadata": {
        "id": "nrKbkWYjYgik",
        "colab_type": "code",
        "colab": {}
      },
      "source": [
        "from __future__ import absolute_import, division, print_function, unicode_literals\n",
        "import tensorflow as tf\n",
        "import pandas as pd"
      ],
      "execution_count": 42,
      "outputs": []
    },
    {
      "cell_type": "code",
      "metadata": {
        "id": "TEeEH8HYZuBK",
        "colab_type": "code",
        "colab": {}
      },
      "source": [
        "CSV_COLUMN_NAMES = ['SepalLength', 'SepalWidth', 'PetalLength', 'PetalWidth', 'Species']\n",
        "SPECIES = ['Setosa', 'Versicolor', 'Virginica']"
      ],
      "execution_count": 43,
      "outputs": []
    },
    {
      "cell_type": "code",
      "metadata": {
        "id": "Zj-_dAqYYuCi",
        "colab_type": "code",
        "colab": {}
      },
      "source": [
        "train_path = tf.keras.utils.get_file(\n",
        "    \"iris_training.csv\", \"http://storage.googleapis.com/download.tensorflow.org/data/iris_training.csv\")\n",
        "test_path = tf.keras.utils.get_file(\n",
        "    \"iris_test.csv\", \"https://storage.googleapis.com/download.tensorflow.org/data/iris_test.csv\")\n",
        "\n",
        "train = pd.read_csv(train_path, names=CSV_COLUMN_NAMES, header=0)\n",
        "test = pd.read_csv(test_path, names=CSV_COLUMN_NAMES, header=0)"
      ],
      "execution_count": 44,
      "outputs": []
    },
    {
      "cell_type": "code",
      "metadata": {
        "id": "kmqO50mDaThJ",
        "colab_type": "code",
        "colab": {
          "base_uri": "https://localhost:8080/",
          "height": 204
        },
        "outputId": "9fc213e3-7e6a-495e-efbd-446b3718a967"
      },
      "source": [
        "train.head()"
      ],
      "execution_count": 45,
      "outputs": [
        {
          "output_type": "execute_result",
          "data": {
            "text/html": [
              "<div>\n",
              "<style scoped>\n",
              "    .dataframe tbody tr th:only-of-type {\n",
              "        vertical-align: middle;\n",
              "    }\n",
              "\n",
              "    .dataframe tbody tr th {\n",
              "        vertical-align: top;\n",
              "    }\n",
              "\n",
              "    .dataframe thead th {\n",
              "        text-align: right;\n",
              "    }\n",
              "</style>\n",
              "<table border=\"1\" class=\"dataframe\">\n",
              "  <thead>\n",
              "    <tr style=\"text-align: right;\">\n",
              "      <th></th>\n",
              "      <th>SepalLength</th>\n",
              "      <th>SepalWidth</th>\n",
              "      <th>PetalLength</th>\n",
              "      <th>PetalWidth</th>\n",
              "      <th>Species</th>\n",
              "    </tr>\n",
              "  </thead>\n",
              "  <tbody>\n",
              "    <tr>\n",
              "      <th>0</th>\n",
              "      <td>6.4</td>\n",
              "      <td>2.8</td>\n",
              "      <td>5.6</td>\n",
              "      <td>2.2</td>\n",
              "      <td>2</td>\n",
              "    </tr>\n",
              "    <tr>\n",
              "      <th>1</th>\n",
              "      <td>5.0</td>\n",
              "      <td>2.3</td>\n",
              "      <td>3.3</td>\n",
              "      <td>1.0</td>\n",
              "      <td>1</td>\n",
              "    </tr>\n",
              "    <tr>\n",
              "      <th>2</th>\n",
              "      <td>4.9</td>\n",
              "      <td>2.5</td>\n",
              "      <td>4.5</td>\n",
              "      <td>1.7</td>\n",
              "      <td>2</td>\n",
              "    </tr>\n",
              "    <tr>\n",
              "      <th>3</th>\n",
              "      <td>4.9</td>\n",
              "      <td>3.1</td>\n",
              "      <td>1.5</td>\n",
              "      <td>0.1</td>\n",
              "      <td>0</td>\n",
              "    </tr>\n",
              "    <tr>\n",
              "      <th>4</th>\n",
              "      <td>5.7</td>\n",
              "      <td>3.8</td>\n",
              "      <td>1.7</td>\n",
              "      <td>0.3</td>\n",
              "      <td>0</td>\n",
              "    </tr>\n",
              "  </tbody>\n",
              "</table>\n",
              "</div>"
            ],
            "text/plain": [
              "   SepalLength  SepalWidth  PetalLength  PetalWidth  Species\n",
              "0          6.4         2.8          5.6         2.2        2\n",
              "1          5.0         2.3          3.3         1.0        1\n",
              "2          4.9         2.5          4.5         1.7        2\n",
              "3          4.9         3.1          1.5         0.1        0\n",
              "4          5.7         3.8          1.7         0.3        0"
            ]
          },
          "metadata": {
            "tags": []
          },
          "execution_count": 45
        }
      ]
    },
    {
      "cell_type": "code",
      "metadata": {
        "id": "EVk-fwB2aWV5",
        "colab_type": "code",
        "colab": {
          "base_uri": "https://localhost:8080/",
          "height": 204
        },
        "outputId": "44f78a93-ebb5-43c0-fc6b-a44a9cd43878"
      },
      "source": [
        "train_y = train.pop('Species')\n",
        "test_y = test.pop('Species')\n",
        "train.head()"
      ],
      "execution_count": 46,
      "outputs": [
        {
          "output_type": "execute_result",
          "data": {
            "text/html": [
              "<div>\n",
              "<style scoped>\n",
              "    .dataframe tbody tr th:only-of-type {\n",
              "        vertical-align: middle;\n",
              "    }\n",
              "\n",
              "    .dataframe tbody tr th {\n",
              "        vertical-align: top;\n",
              "    }\n",
              "\n",
              "    .dataframe thead th {\n",
              "        text-align: right;\n",
              "    }\n",
              "</style>\n",
              "<table border=\"1\" class=\"dataframe\">\n",
              "  <thead>\n",
              "    <tr style=\"text-align: right;\">\n",
              "      <th></th>\n",
              "      <th>SepalLength</th>\n",
              "      <th>SepalWidth</th>\n",
              "      <th>PetalLength</th>\n",
              "      <th>PetalWidth</th>\n",
              "    </tr>\n",
              "  </thead>\n",
              "  <tbody>\n",
              "    <tr>\n",
              "      <th>0</th>\n",
              "      <td>6.4</td>\n",
              "      <td>2.8</td>\n",
              "      <td>5.6</td>\n",
              "      <td>2.2</td>\n",
              "    </tr>\n",
              "    <tr>\n",
              "      <th>1</th>\n",
              "      <td>5.0</td>\n",
              "      <td>2.3</td>\n",
              "      <td>3.3</td>\n",
              "      <td>1.0</td>\n",
              "    </tr>\n",
              "    <tr>\n",
              "      <th>2</th>\n",
              "      <td>4.9</td>\n",
              "      <td>2.5</td>\n",
              "      <td>4.5</td>\n",
              "      <td>1.7</td>\n",
              "    </tr>\n",
              "    <tr>\n",
              "      <th>3</th>\n",
              "      <td>4.9</td>\n",
              "      <td>3.1</td>\n",
              "      <td>1.5</td>\n",
              "      <td>0.1</td>\n",
              "    </tr>\n",
              "    <tr>\n",
              "      <th>4</th>\n",
              "      <td>5.7</td>\n",
              "      <td>3.8</td>\n",
              "      <td>1.7</td>\n",
              "      <td>0.3</td>\n",
              "    </tr>\n",
              "  </tbody>\n",
              "</table>\n",
              "</div>"
            ],
            "text/plain": [
              "   SepalLength  SepalWidth  PetalLength  PetalWidth\n",
              "0          6.4         2.8          5.6         2.2\n",
              "1          5.0         2.3          3.3         1.0\n",
              "2          4.9         2.5          4.5         1.7\n",
              "3          4.9         3.1          1.5         0.1\n",
              "4          5.7         3.8          1.7         0.3"
            ]
          },
          "metadata": {
            "tags": []
          },
          "execution_count": 46
        }
      ]
    },
    {
      "cell_type": "code",
      "metadata": {
        "id": "lsOyac6XagCa",
        "colab_type": "code",
        "colab": {
          "base_uri": "https://localhost:8080/",
          "height": 34
        },
        "outputId": "e520a4fb-a378-414e-ccf2-36b8a0fd2dd9"
      },
      "source": [
        "train.shape"
      ],
      "execution_count": 47,
      "outputs": [
        {
          "output_type": "execute_result",
          "data": {
            "text/plain": [
              "(120, 4)"
            ]
          },
          "metadata": {
            "tags": []
          },
          "execution_count": 47
        }
      ]
    },
    {
      "cell_type": "code",
      "metadata": {
        "id": "ybDw_eiYcFP6",
        "colab_type": "code",
        "colab": {}
      },
      "source": [
        "def input_fn(features, labels, training=True, batch_size=256):\n",
        "    dataset = tf.data.Dataset.from_tensor_slices((dict(features), labels))\n",
        "\n",
        "    if training:\n",
        "        dataset = dataset.shuffle(1000).repeat()\n",
        "    \n",
        "    return dataset.batch(batch_size)"
      ],
      "execution_count": 48,
      "outputs": []
    },
    {
      "cell_type": "code",
      "metadata": {
        "id": "N68uPKzehqgc",
        "colab_type": "code",
        "colab": {}
      },
      "source": [
        ""
      ],
      "execution_count": 48,
      "outputs": []
    },
    {
      "cell_type": "code",
      "metadata": {
        "id": "R2an_b8OdWgR",
        "colab_type": "code",
        "colab": {
          "base_uri": "https://localhost:8080/",
          "height": 54
        },
        "outputId": "f1f881a6-f08e-4fcb-aed8-fa504139fedf"
      },
      "source": [
        "my_feature_columns = []\n",
        "for key in train.keys():\n",
        "    my_feature_columns.append(tf.feature_column.numeric_column(key=key))\n",
        "print(my_feature_columns)"
      ],
      "execution_count": 49,
      "outputs": [
        {
          "output_type": "stream",
          "text": [
            "[NumericColumn(key='SepalLength', shape=(1,), default_value=None, dtype=tf.float32, normalizer_fn=None), NumericColumn(key='SepalWidth', shape=(1,), default_value=None, dtype=tf.float32, normalizer_fn=None), NumericColumn(key='PetalLength', shape=(1,), default_value=None, dtype=tf.float32, normalizer_fn=None), NumericColumn(key='PetalWidth', shape=(1,), default_value=None, dtype=tf.float32, normalizer_fn=None)]\n"
          ],
          "name": "stdout"
        }
      ]
    },
    {
      "cell_type": "code",
      "metadata": {
        "id": "q5gEOUBZeg35",
        "colab_type": "code",
        "colab": {
          "base_uri": "https://localhost:8080/",
          "height": 190
        },
        "outputId": "67a7319f-1e54-4bc3-9bff-5f27940a31a4"
      },
      "source": [
        "classifier = tf.estimator.DNNClassifier(\n",
        "    feature_columns=my_feature_columns,\n",
        "    hidden_units=[30, 10],\n",
        "    n_classes=3)"
      ],
      "execution_count": 50,
      "outputs": [
        {
          "output_type": "stream",
          "text": [
            "INFO:tensorflow:Using default config.\n",
            "WARNING:tensorflow:Using temporary folder as model directory: /tmp/tmp4n23v6op\n",
            "INFO:tensorflow:Using config: {'_model_dir': '/tmp/tmp4n23v6op', '_tf_random_seed': None, '_save_summary_steps': 100, '_save_checkpoints_steps': None, '_save_checkpoints_secs': 600, '_session_config': allow_soft_placement: true\n",
            "graph_options {\n",
            "  rewrite_options {\n",
            "    meta_optimizer_iterations: ONE\n",
            "  }\n",
            "}\n",
            ", '_keep_checkpoint_max': 5, '_keep_checkpoint_every_n_hours': 10000, '_log_step_count_steps': 100, '_train_distribute': None, '_device_fn': None, '_protocol': None, '_eval_distribute': None, '_experimental_distribute': None, '_experimental_max_worker_delay_secs': None, '_session_creation_timeout_secs': 7200, '_service': None, '_cluster_spec': ClusterSpec({}), '_task_type': 'worker', '_task_id': 0, '_global_id_in_cluster': 0, '_master': '', '_evaluation_master': '', '_is_chief': True, '_num_ps_replicas': 0, '_num_worker_replicas': 1}\n"
          ],
          "name": "stdout"
        }
      ]
    },
    {
      "cell_type": "code",
      "metadata": {
        "id": "LneZtCPlfJnc",
        "colab_type": "code",
        "colab": {
          "base_uri": "https://localhost:8080/",
          "height": 1000
        },
        "outputId": "3d564fe4-7930-4b71-87ad-2c411eff4aea"
      },
      "source": [
        "classifier.train(\n",
        "    input_fn=lambda: input_fn(train, train_y, training=True),\n",
        "    steps=5000)"
      ],
      "execution_count": 51,
      "outputs": [
        {
          "output_type": "stream",
          "text": [
            "INFO:tensorflow:Calling model_fn.\n",
            "WARNING:tensorflow:Layer dnn is casting an input tensor from dtype float64 to the layer's dtype of float32, which is new behavior in TensorFlow 2.  The layer has dtype float32 because its dtype defaults to floatx.\n",
            "\n",
            "If you intended to run this layer in float32, you can safely ignore this warning. If in doubt, this warning is likely only an issue if you are porting a TensorFlow 1.X model to TensorFlow 2.\n",
            "\n",
            "To change all layers to have dtype float64 by default, call `tf.keras.backend.set_floatx('float64')`. To change just this layer, pass dtype='float64' to the layer constructor. If you are the author of this layer, you can disable autocasting by passing autocast=False to the base Layer constructor.\n",
            "\n",
            "INFO:tensorflow:Done calling model_fn.\n",
            "INFO:tensorflow:Create CheckpointSaverHook.\n",
            "INFO:tensorflow:Graph was finalized.\n",
            "INFO:tensorflow:Running local_init_op.\n",
            "INFO:tensorflow:Done running local_init_op.\n",
            "INFO:tensorflow:Calling checkpoint listeners before saving checkpoint 0...\n",
            "INFO:tensorflow:Saving checkpoints for 0 into /tmp/tmp4n23v6op/model.ckpt.\n",
            "INFO:tensorflow:Calling checkpoint listeners after saving checkpoint 0...\n",
            "INFO:tensorflow:loss = 1.7339046, step = 0\n",
            "INFO:tensorflow:global_step/sec: 518.763\n",
            "INFO:tensorflow:loss = 1.2746035, step = 100 (0.194 sec)\n",
            "INFO:tensorflow:global_step/sec: 728.94\n",
            "INFO:tensorflow:loss = 1.1553025, step = 200 (0.139 sec)\n",
            "INFO:tensorflow:global_step/sec: 740.804\n",
            "INFO:tensorflow:loss = 1.081327, step = 300 (0.135 sec)\n",
            "INFO:tensorflow:global_step/sec: 698.862\n",
            "INFO:tensorflow:loss = 1.026388, step = 400 (0.141 sec)\n",
            "INFO:tensorflow:global_step/sec: 748.885\n",
            "INFO:tensorflow:loss = 1.0094901, step = 500 (0.136 sec)\n",
            "INFO:tensorflow:global_step/sec: 730.033\n",
            "INFO:tensorflow:loss = 0.9884442, step = 600 (0.138 sec)\n",
            "INFO:tensorflow:global_step/sec: 724.253\n",
            "INFO:tensorflow:loss = 0.9713414, step = 700 (0.137 sec)\n",
            "WARNING:tensorflow:It seems that global step (tf.train.get_global_step) has not been increased. Current value (could be stable): 771 vs previous value: 771. You could increase the global step by passing tf.train.get_global_step() to Optimizer.apply_gradients or Optimizer.minimize.\n",
            "INFO:tensorflow:global_step/sec: 720.389\n",
            "INFO:tensorflow:loss = 0.9586759, step = 800 (0.137 sec)\n",
            "INFO:tensorflow:global_step/sec: 630.628\n",
            "INFO:tensorflow:loss = 0.9476861, step = 900 (0.160 sec)\n",
            "INFO:tensorflow:global_step/sec: 738.074\n",
            "INFO:tensorflow:loss = 0.9295329, step = 1000 (0.133 sec)\n",
            "INFO:tensorflow:global_step/sec: 719.7\n",
            "INFO:tensorflow:loss = 0.91021997, step = 1100 (0.141 sec)\n",
            "INFO:tensorflow:global_step/sec: 734.496\n",
            "INFO:tensorflow:loss = 0.9082246, step = 1200 (0.134 sec)\n",
            "INFO:tensorflow:global_step/sec: 724.294\n",
            "INFO:tensorflow:loss = 0.900203, step = 1300 (0.140 sec)\n",
            "INFO:tensorflow:global_step/sec: 738.726\n",
            "INFO:tensorflow:loss = 0.89006317, step = 1400 (0.133 sec)\n",
            "INFO:tensorflow:global_step/sec: 700.682\n",
            "INFO:tensorflow:loss = 0.87953085, step = 1500 (0.143 sec)\n",
            "INFO:tensorflow:global_step/sec: 699.934\n",
            "INFO:tensorflow:loss = 0.8813822, step = 1600 (0.145 sec)\n",
            "INFO:tensorflow:global_step/sec: 709.334\n",
            "INFO:tensorflow:loss = 0.8569186, step = 1700 (0.139 sec)\n",
            "INFO:tensorflow:global_step/sec: 730.515\n",
            "INFO:tensorflow:loss = 0.7862768, step = 1800 (0.138 sec)\n",
            "INFO:tensorflow:global_step/sec: 725.816\n",
            "INFO:tensorflow:loss = 0.759292, step = 1900 (0.136 sec)\n",
            "INFO:tensorflow:global_step/sec: 717.704\n",
            "INFO:tensorflow:loss = 0.7346349, step = 2000 (0.142 sec)\n",
            "INFO:tensorflow:global_step/sec: 734.093\n",
            "INFO:tensorflow:loss = 0.7182342, step = 2100 (0.136 sec)\n",
            "INFO:tensorflow:global_step/sec: 698.762\n",
            "INFO:tensorflow:loss = 0.70530903, step = 2200 (0.141 sec)\n",
            "INFO:tensorflow:global_step/sec: 705.234\n",
            "INFO:tensorflow:loss = 0.6792653, step = 2300 (0.141 sec)\n",
            "INFO:tensorflow:global_step/sec: 730.5\n",
            "INFO:tensorflow:loss = 0.66283655, step = 2400 (0.138 sec)\n",
            "INFO:tensorflow:global_step/sec: 756.921\n",
            "INFO:tensorflow:loss = 0.6650499, step = 2500 (0.132 sec)\n",
            "INFO:tensorflow:global_step/sec: 746.828\n",
            "INFO:tensorflow:loss = 0.6455717, step = 2600 (0.136 sec)\n",
            "INFO:tensorflow:global_step/sec: 726.174\n",
            "INFO:tensorflow:loss = 0.6250528, step = 2700 (0.136 sec)\n",
            "INFO:tensorflow:global_step/sec: 736.739\n",
            "INFO:tensorflow:loss = 0.61403096, step = 2800 (0.138 sec)\n",
            "INFO:tensorflow:global_step/sec: 716.397\n",
            "INFO:tensorflow:loss = 0.6080493, step = 2900 (0.137 sec)\n",
            "INFO:tensorflow:global_step/sec: 741.154\n",
            "INFO:tensorflow:loss = 0.60260653, step = 3000 (0.135 sec)\n",
            "WARNING:tensorflow:It seems that global step (tf.train.get_global_step) has not been increased. Current value (could be stable): 3004 vs previous value: 3004. You could increase the global step by passing tf.train.get_global_step() to Optimizer.apply_gradients or Optimizer.minimize.\n",
            "INFO:tensorflow:global_step/sec: 671.271\n",
            "INFO:tensorflow:loss = 0.6043019, step = 3100 (0.149 sec)\n",
            "INFO:tensorflow:global_step/sec: 758.08\n",
            "INFO:tensorflow:loss = 0.5806823, step = 3200 (0.132 sec)\n",
            "INFO:tensorflow:global_step/sec: 749.561\n",
            "INFO:tensorflow:loss = 0.5818358, step = 3300 (0.134 sec)\n",
            "INFO:tensorflow:global_step/sec: 746.218\n",
            "INFO:tensorflow:loss = 0.5546942, step = 3400 (0.134 sec)\n",
            "INFO:tensorflow:global_step/sec: 701.725\n",
            "INFO:tensorflow:loss = 0.5615607, step = 3500 (0.145 sec)\n",
            "INFO:tensorflow:global_step/sec: 700.291\n",
            "INFO:tensorflow:loss = 0.55191404, step = 3600 (0.140 sec)\n",
            "INFO:tensorflow:global_step/sec: 749.753\n",
            "INFO:tensorflow:loss = 0.54831576, step = 3700 (0.134 sec)\n",
            "INFO:tensorflow:global_step/sec: 735.331\n",
            "INFO:tensorflow:loss = 0.5521794, step = 3800 (0.138 sec)\n",
            "INFO:tensorflow:global_step/sec: 751.63\n",
            "INFO:tensorflow:loss = 0.5383209, step = 3900 (0.131 sec)\n",
            "INFO:tensorflow:global_step/sec: 685.114\n",
            "INFO:tensorflow:loss = 0.5411526, step = 4000 (0.146 sec)\n",
            "INFO:tensorflow:global_step/sec: 736.479\n",
            "INFO:tensorflow:loss = 0.52698886, step = 4100 (0.135 sec)\n",
            "INFO:tensorflow:global_step/sec: 759.314\n",
            "INFO:tensorflow:loss = 0.5260043, step = 4200 (0.132 sec)\n",
            "INFO:tensorflow:global_step/sec: 760.975\n",
            "INFO:tensorflow:loss = 0.51733303, step = 4300 (0.131 sec)\n",
            "INFO:tensorflow:global_step/sec: 710.213\n",
            "INFO:tensorflow:loss = 0.51590836, step = 4400 (0.143 sec)\n",
            "INFO:tensorflow:global_step/sec: 713.677\n",
            "INFO:tensorflow:loss = 0.5088747, step = 4500 (0.138 sec)\n",
            "INFO:tensorflow:global_step/sec: 699.55\n",
            "INFO:tensorflow:loss = 0.4896763, step = 4600 (0.145 sec)\n",
            "INFO:tensorflow:global_step/sec: 693.882\n",
            "INFO:tensorflow:loss = 0.50649726, step = 4700 (0.144 sec)\n",
            "INFO:tensorflow:global_step/sec: 715.015\n",
            "INFO:tensorflow:loss = 0.49226066, step = 4800 (0.138 sec)\n",
            "INFO:tensorflow:global_step/sec: 737.581\n",
            "INFO:tensorflow:loss = 0.4883852, step = 4900 (0.137 sec)\n",
            "INFO:tensorflow:Calling checkpoint listeners before saving checkpoint 5000...\n",
            "INFO:tensorflow:Saving checkpoints for 5000 into /tmp/tmp4n23v6op/model.ckpt.\n",
            "INFO:tensorflow:Calling checkpoint listeners after saving checkpoint 5000...\n",
            "INFO:tensorflow:Loss for final step: 0.4887644.\n"
          ],
          "name": "stdout"
        },
        {
          "output_type": "execute_result",
          "data": {
            "text/plain": [
              "<tensorflow_estimator.python.estimator.canned.dnn.DNNClassifierV2 at 0x7fc363e654a8>"
            ]
          },
          "metadata": {
            "tags": []
          },
          "execution_count": 51
        }
      ]
    },
    {
      "cell_type": "code",
      "metadata": {
        "id": "oFJIuP8ehs7B",
        "colab_type": "code",
        "colab": {
          "base_uri": "https://localhost:8080/",
          "height": 377
        },
        "outputId": "6a5ad033-64bf-47b1-f60b-8a01d5526d51"
      },
      "source": [
        "eval_result = classifier.evaluate(input_fn=lambda: input_fn(test, test_y, training=False))\n",
        "print('\\nTest set accuracy: {accuracy:0.3f}\\n'.format(**eval_result))"
      ],
      "execution_count": 52,
      "outputs": [
        {
          "output_type": "stream",
          "text": [
            "INFO:tensorflow:Calling model_fn.\n",
            "WARNING:tensorflow:Layer dnn is casting an input tensor from dtype float64 to the layer's dtype of float32, which is new behavior in TensorFlow 2.  The layer has dtype float32 because its dtype defaults to floatx.\n",
            "\n",
            "If you intended to run this layer in float32, you can safely ignore this warning. If in doubt, this warning is likely only an issue if you are porting a TensorFlow 1.X model to TensorFlow 2.\n",
            "\n",
            "To change all layers to have dtype float64 by default, call `tf.keras.backend.set_floatx('float64')`. To change just this layer, pass dtype='float64' to the layer constructor. If you are the author of this layer, you can disable autocasting by passing autocast=False to the base Layer constructor.\n",
            "\n",
            "INFO:tensorflow:Done calling model_fn.\n",
            "INFO:tensorflow:Starting evaluation at 2020-09-01T02:58:29Z\n",
            "INFO:tensorflow:Graph was finalized.\n",
            "INFO:tensorflow:Restoring parameters from /tmp/tmp4n23v6op/model.ckpt-5000\n",
            "INFO:tensorflow:Running local_init_op.\n",
            "INFO:tensorflow:Done running local_init_op.\n",
            "INFO:tensorflow:Inference Time : 0.18404s\n",
            "INFO:tensorflow:Finished evaluation at 2020-09-01-02:58:30\n",
            "INFO:tensorflow:Saving dict for global step 5000: accuracy = 0.73333335, average_loss = 0.5624454, global_step = 5000, loss = 0.5624454\n",
            "INFO:tensorflow:Saving 'checkpoint_path' summary for global step 5000: /tmp/tmp4n23v6op/model.ckpt-5000\n",
            "\n",
            "Test set accuracy: 0.733\n",
            "\n"
          ],
          "name": "stdout"
        }
      ]
    },
    {
      "cell_type": "code",
      "metadata": {
        "id": "u5HxIuGYjMqq",
        "colab_type": "code",
        "colab": {
          "base_uri": "https://localhost:8080/",
          "height": 258
        },
        "outputId": "e3bdaa14-89a3-44ae-ef1e-7be773a49e87"
      },
      "source": [
        "def input_fn(features, batch_size=256):\n",
        "    return tf.data.Dataset.from_tensor_slices(dict(features)).batch(batch_size)\n",
        "\n",
        "features = ['SepalLength', 'SepalWidth', 'PetalLength', 'PetalWidth']\n",
        "predict = {}\n",
        "\n",
        "print(\"Please type numeric values as prompted.\")\n",
        "for feature in features:\n",
        "    valid = True\n",
        "    while valid:\n",
        "        val = input(feature + \": \")\n",
        "        if not val.isdigit(): valid = False\n",
        "\n",
        "    predict[feature] = [float(val)]\n",
        "\n",
        "predictions = classifier.predict(input_fn=lambda: input_fn(predict))\n",
        "for pred_dict in predictions:\n",
        "    print(pred_dict)\n",
        "    class_id = pred_dict['class_ids'][0]\n",
        "    probability = pred_dict['probabilities'][class_id]\n",
        "\n",
        "    print('Prediction is \"{}\" ({:.1f}%)'.format(\n",
        "        SPECIES[class_id], 100 * probability))"
      ],
      "execution_count": 54,
      "outputs": [
        {
          "output_type": "stream",
          "text": [
            "Please type numeric values as prompted.\n",
            "SepalLength: 1.4\n",
            "SepalWidth: 2.3\n",
            "PetalLength: 4.5\n",
            "PetalWidth: 4.7\n",
            "INFO:tensorflow:Calling model_fn.\n",
            "INFO:tensorflow:Done calling model_fn.\n",
            "INFO:tensorflow:Graph was finalized.\n",
            "INFO:tensorflow:Restoring parameters from /tmp/tmp4n23v6op/model.ckpt-5000\n",
            "INFO:tensorflow:Running local_init_op.\n",
            "INFO:tensorflow:Done running local_init_op.\n",
            "{'logits': array([-0.7749667, -1.3533032,  1.825507 ], dtype=float32), 'probabilities': array([0.06652939, 0.03731173, 0.8961589 ], dtype=float32), 'class_ids': array([2]), 'classes': array([b'2'], dtype=object), 'all_class_ids': array([0, 1, 2], dtype=int32), 'all_classes': array([b'0', b'1', b'2'], dtype=object)}\n",
            "Prediction is \"Virginica\" (89.6%)\n"
          ],
          "name": "stdout"
        }
      ]
    },
    {
      "cell_type": "code",
      "metadata": {
        "id": "Z6-Ju7Otlu3Y",
        "colab_type": "code",
        "colab": {}
      },
      "source": [
        "expected = ['Setosa', 'Versicolor', 'Virginica']\n",
        "predict_x = {\n",
        "    'SepalLength': [5.1, 5.9, 6.9],\n",
        "    'SepalWIdth': [3.3, 3.0, 3.1],\n",
        "    'PetalLength': [1.7, 4.2, 5.4],\n",
        "    'PetalWidth': [0.5, 1.5, 2.1],\n",
        "}"
      ],
      "execution_count": 53,
      "outputs": []
    }
  ]
}